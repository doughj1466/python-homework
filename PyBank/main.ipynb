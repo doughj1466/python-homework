{
 "cells": [
  {
   "cell_type": "code",
   "execution_count": 3,
   "id": "92ed5355-0799-4c0a-9f75-2232b6795b2a",
   "metadata": {
    "tags": []
   },
   "outputs": [],
   "source": [
    "import csv\n",
    "from pathlib import Path\n",
    "\n",
    "file_to_load = Path ('budget_data.csv')\n",
    "file_to_output = Path ('budget_analysis.txt')\n",
    "\n",
    "#create variables\n",
    "total_months = 0\n",
    "month_of_change = []\n",
    "net_change_list = []\n",
    "greatest_increase = [\"\", 0]\n",
    "greatest_decrease = [\"\", 99999999]\n",
    "total_net = 0\n",
    "\n",
    "#the loop\n",
    "\n",
    "#read csv, setup a reader object\n",
    "with open(file_to_load) as financial_data:\n",
    "    reader = csv.reader(financial_data)\n",
    "    \n",
    "    header = next(reader)\n",
    "    \n",
    "    first_row = next(reader)\n",
    "    total_months = total_months +1\n",
    "    total_net = total_net + int(first_row[1])\n",
    "    prev_net = int(first_row[1])\n",
    "    \n",
    "#populate metrics\n",
    "    for row in reader:\n",
    "        total_months = total_months + 1\n",
    "        total_net = total_net + int(first_row[1])\n",
    "    \n",
    "        net_change = int(row[1]) - prev_net\n",
    "        prev_net = int(row[1])\n",
    "    #number\n",
    "        net_change_list = net_change_list + [net_change]\n",
    "    #month\n",
    "        month_of_change = month_of_change + [row[0]]\n",
    "    \n",
    "    #calc greatest increase\n",
    "        if net_change > greatest_increase[1]:\n",
    "            greatest_increase[0] = row[0]\n",
    "            greatest_increase[1] = net_change\n",
    "    #calc greatest decrease\n",
    "        if net_change < greatest_decrease[1]:\n",
    "            greatest_decrease[0] = row[0]\n",
    "            greatest_decrease[1] = net_change\n",
    "        \n",
    "    net_monthly_avg = sum(net_change_list) / len(net_change_list)\n",
    "    \n",
    "    #f strings to export\n",
    "    with open (file_to_output, 'w') as txt_file:\n",
    "        txt_file.write(f\"Financial Analysis\\n\")\n",
    "        txt_file.write(f\"------------------------\\n\")\n",
    "        txt_file.write(f\"Total Months: {total_months}\\n\")\n",
    "        txt_file.write(f\"Total: ${total_net}\\n\")\n",
    "        txt_file.write(f\"Average Change: ${net_monthly_avg}\\n\")\n",
    "        txt_file.write(f\"Greatest Increase in Profits: ${greatest_increase[0]}\\n\")\n",
    "        txt_file.write(f\"Greatest Decrease in Profits: ${greatest_decrease[0]}\\n\")"
   ]
  },
  {
   "cell_type": "code",
   "execution_count": null,
   "id": "2f80f8a7-d9fd-4167-bc4d-ebebc141b49a",
   "metadata": {},
   "outputs": [],
   "source": []
  }
 ],
 "metadata": {
  "kernelspec": {
   "display_name": "Python 3 (ipykernel)",
   "language": "python",
   "name": "python3"
  },
  "language_info": {
   "codemirror_mode": {
    "name": "ipython",
    "version": 3
   },
   "file_extension": ".py",
   "mimetype": "text/x-python",
   "name": "python",
   "nbconvert_exporter": "python",
   "pygments_lexer": "ipython3",
   "version": "3.10.13"
  }
 },
 "nbformat": 4,
 "nbformat_minor": 5
}
